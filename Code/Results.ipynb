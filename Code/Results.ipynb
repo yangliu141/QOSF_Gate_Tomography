{
 "cells": [
  {
   "cell_type": "code",
   "execution_count": null,
   "id": "d2830423",
   "metadata": {},
   "outputs": [
    {
     "name": "stdout",
     "output_type": "stream",
     "text": [
      "[('H', 'T_ad')]\n"
     ]
    }
   ],
   "source": [
    "from Functions import create_circuit_Unitary\n",
    "from Gates import Tof\n",
    "import numpy as np\n",
    "\n",
    "\n",
    "#Toffoli gate (target)\n",
    "Toffoli = Tof()\n",
    "\n",
    "#Candidates for the U3 gates\n",
    "candidates = {\n",
    "    \"I\":  [0, 0, 0],\n",
    "    \"T\":  [0, 0, np.pi/4],\n",
    "    \"T_ad\":[0, 0, -np.pi/4],\n",
    "    \"S\":  [0, 0, np.pi/2],\n",
    "    \"S_ad\":[0, 0, -np.pi/2],\n",
    "    \"H\": [np.pi/2, 0, np.pi]\n",
    "}\n",
    "\n",
    "results = []\n",
    "\n",
    "#Test all combinations of candidate gates\n",
    "for gate1, p1 in candidates.items():\n",
    "    for gate2, p2 in candidates.items():\n",
    "        parameters = p1+p2\n",
    "        U = create_circuit_Unitary(parameters)\n",
    "\n",
    "        #Compare to Toffoli\n",
    "        if np.allclose(U,Toffoli):\n",
    "            results.append((gate1,gate2))\n",
    "\n",
    "print(results)"
   ]
  },
  {
   "cell_type": "markdown",
   "id": "9766fa22",
   "metadata": {},
   "source": [
    "# Comments"
   ]
  },
  {
   "cell_type": "code",
   "execution_count": null,
   "id": "77f25bca",
   "metadata": {},
   "outputs": [],
   "source": [
    "from qiskit import QuantumCircuit\n",
    "import matplotlib.pyplot as plt\n",
    "\n",
    "\n",
    "#Implement the Toffoli decomposition\n",
    "def My_Tof():\n",
    "    qc = QuantumCircuit(3)\n",
    "\n",
    "    qc.t(0)\n",
    "    qc.h(2)\n",
    "\n",
    "    qc.cx(0,1)\n",
    "    qc.tdg(1)\n",
    "    qc.cx(0,1)\n",
    "    qc.t(1)\n",
    "\n",
    "    qc.cx(1,2)\n",
    "    qc.tdg(2)\n",
    "    qc.cx(0,2)\n",
    "    qc.t(2)\n",
    "    qc.cx(1,2)\n",
    "    qc.tdg(2)\n",
    "    qc.cx(0,2)\n",
    "    qc.t(2)\n",
    "    qc.h(2)\n",
    "\n",
    "    return qc\n",
    "\n",
    "#Draw circuit\n",
    "qc1 = My_Tof()\n",
    "qc1.draw('mpl')\n"
   ]
  },
  {
   "cell_type": "code",
   "execution_count": null,
   "id": "6e222d00",
   "metadata": {},
   "outputs": [],
   "source": [
    "#\n",
    "def qiskit_Tof():\n",
    "    qc = QuantumCircuit(3, name = \"QiskitTof\")\n",
    "    qc.ccx(0,1,2)\n",
    "    return qc\n",
    "\n",
    "qc2 = qiskit_Tof()\n",
    "qc2.decompose().draw(\"mpl\")\n"
   ]
  },
  {
   "cell_type": "code",
   "execution_count": null,
   "id": "76a4b18d",
   "metadata": {},
   "outputs": [],
   "source": [
    "from qiskit.quantum_info import Operator\n",
    "\n",
    "print(Operator(qc1).equiv(Operator(qc2)))\n",
    "\n",
    "print(\"My Toffoli:\", qc1.count_ops())\n",
    "print(\"Qiskit CCX:\", qc2.decompose().count_ops())\n",
    "print(\"My Toffoli depth:\", qc1.depth())\n",
    "print(\"Qiskit CCX depth:\", qc2.decompose().depth())\n",
    "\n",
    "\n"
   ]
  }
 ],
 "metadata": {
  "kernelspec": {
   "display_name": "Python 3",
   "language": "python",
   "name": "python3"
  },
  "language_info": {
   "codemirror_mode": {
    "name": "ipython",
    "version": 3
   },
   "file_extension": ".py",
   "mimetype": "text/x-python",
   "name": "python",
   "nbconvert_exporter": "python",
   "pygments_lexer": "ipython3",
   "version": "3.13.7"
  }
 },
 "nbformat": 4,
 "nbformat_minor": 5
}
