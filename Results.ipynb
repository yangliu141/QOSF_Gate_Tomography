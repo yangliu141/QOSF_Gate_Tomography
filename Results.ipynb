{
 "cells": [
  {
   "cell_type": "code",
   "execution_count": 2,
   "id": "d2830423",
   "metadata": {},
   "outputs": [
    {
     "name": "stdout",
     "output_type": "stream",
     "text": [
      "[('H', 'T_ad')]\n"
     ]
    }
   ],
   "source": [
    "from Functions import create_circuit_Unitary\n",
    "from Gates import Tof\n",
    "import numpy as np\n",
    "\n",
    "Toffoli = Tof()\n",
    "\n",
    "candidates = {\n",
    "    \"I\":  [0, 0, 0],\n",
    "    \"T\":  [0, 0, np.pi/4],\n",
    "    \"T_ad\":[0, 0, -np.pi/4],\n",
    "    \"S\":  [0, 0, np.pi/2],\n",
    "    \"S_ad\":[0, 0, -np.pi/2],\n",
    "    \"H\": [np.pi/2, 0, np.pi]\n",
    "}\n",
    "\n",
    "results = []\n",
    "\n",
    "for gate1, p1 in candidates.items():\n",
    "    for gate2, p2 in candidates.items():\n",
    "        parameters = p1+p2\n",
    "        U = create_circuit_Unitary(parameters)\n",
    "\n",
    "        if np.allclose(U,Toffoli):\n",
    "            results.append((gate1,gate2))\n",
    "\n",
    "print(results)"
   ]
  },
  {
   "cell_type": "code",
   "execution_count": 1,
   "id": "e99297cf",
   "metadata": {},
   "outputs": [
    {
     "name": "stdout",
     "output_type": "stream",
     "text": [
      "Optimization result:\n",
      "  message: Optimization terminated successfully.\n",
      "  success: True\n",
      "   status: 0\n",
      "      fun: 7.779819766487872e-31\n",
      "        x: [ 1.571e+00  0.000e+00  3.142e+00  0.000e+00  0.000e+00\n",
      "            -7.854e-01]\n",
      "      nit: 0\n",
      "      jac: [ 2.980e-08  1.490e-07  1.490e-07  2.980e-08  1.490e-07\n",
      "             1.490e-07]\n",
      " hess_inv: [[1 0 ... 0 0]\n",
      "            [0 1 ... 0 0]\n",
      "            ...\n",
      "            [0 0 ... 1 0]\n",
      "            [0 0 ... 0 1]]\n",
      "     nfev: 7\n",
      "     njev: 1\n"
     ]
    }
   ],
   "source": [
    "from Functions import create_circuit_Unitary\n",
    "from Gates import Tof\n",
    "\n",
    "from scipy.optimize import minimize\n",
    "import numpy as np\n",
    "\n",
    "Toffoli = Tof()\n",
    "\n",
    "\"\"\"\n",
    "def loss_function(parameters):\n",
    "    U = create_circuit_Unitary(parameters)\n",
    "    return np.linalg.norm(U - Toffoli, 'fro')**2\n",
    "\"\"\"\n",
    "def loss_function(parameters):\n",
    "    U = create_circuit_Unitary(parameters)\n",
    "    phase = np.angle(np.trace(U.conj().T @ Toffoli))\n",
    "    return np.linalg.norm(U - np.exp(1j*phase)*Toffoli, 'fro')**2\n",
    "\n",
    "#Parameters guess for U3_1 and U3_2\n",
    "parameters = [np.pi/2, 0, np.pi, 0, 0, -np.pi/4]\n",
    "\n",
    "\n",
    "result = minimize(loss_function, parameters)\n",
    "\n",
    "print(\"Optimization result:\")\n",
    "print(result)\n"
   ]
  }
 ],
 "metadata": {
  "kernelspec": {
   "display_name": "Python 3",
   "language": "python",
   "name": "python3"
  },
  "language_info": {
   "codemirror_mode": {
    "name": "ipython",
    "version": 3
   },
   "file_extension": ".py",
   "mimetype": "text/x-python",
   "name": "python",
   "nbconvert_exporter": "python",
   "pygments_lexer": "ipython3",
   "version": "3.13.7"
  }
 },
 "nbformat": 4,
 "nbformat_minor": 5
}
