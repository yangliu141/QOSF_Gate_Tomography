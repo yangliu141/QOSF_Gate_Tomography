{
 "cells": [
  {
   "cell_type": "code",
   "execution_count": null,
   "id": "d2830423",
   "metadata": {},
   "outputs": [
    {
     "name": "stdout",
     "output_type": "stream",
     "text": [
      "[('H', 'T_ad')]\n"
     ]
    }
   ],
   "source": [
    "from Functions import create_circuit_Unitary\n",
    "from Gates import Tof\n",
    "import numpy as np\n",
    "\n",
    "\n",
    "#Toffoli gate (target)\n",
    "Toffoli = Tof()\n",
    "\n",
    "#Candidates for the U3 gates\n",
    "candidates = {\n",
    "    \"I\":  [0, 0, 0],\n",
    "    \"T\":  [0, 0, np.pi/4],\n",
    "    \"T_ad\":[0, 0, -np.pi/4],\n",
    "    \"S\":  [0, 0, np.pi/2],\n",
    "    \"S_ad\":[0, 0, -np.pi/2],\n",
    "    \"H\": [np.pi/2, 0, np.pi]\n",
    "}\n",
    "\n",
    "results = []\n",
    "\n",
    "#Test all combinations of candidate gates\n",
    "for gate1, p1 in candidates.items():\n",
    "    for gate2, p2 in candidates.items():\n",
    "        parameters = p1+p2\n",
    "        U = create_circuit_Unitary(parameters)\n",
    "\n",
    "        #Compare to Toffoli\n",
    "        if np.allclose(U,Toffoli):\n",
    "            results.append((gate1,gate2))\n",
    "\n",
    "print(results)"
   ]
  },
  {
   "cell_type": "markdown",
   "id": "9766fa22",
   "metadata": {},
   "source": [
    "# Comments"
   ]
  }
 ],
 "metadata": {
  "kernelspec": {
   "display_name": "Python 3",
   "language": "python",
   "name": "python3"
  },
  "language_info": {
   "codemirror_mode": {
    "name": "ipython",
    "version": 3
   },
   "file_extension": ".py",
   "mimetype": "text/x-python",
   "name": "python",
   "nbconvert_exporter": "python",
   "pygments_lexer": "ipython3",
   "version": "3.13.7"
  }
 },
 "nbformat": 4,
 "nbformat_minor": 5
}
